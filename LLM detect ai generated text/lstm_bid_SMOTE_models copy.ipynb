{
 "cells": [
  {
   "cell_type": "markdown",
   "metadata": {},
   "source": [
    "# LSTM, word embedding, enrich domain 2"
   ]
  },
  {
   "cell_type": "code",
   "execution_count": 2,
   "metadata": {},
   "outputs": [],
   "source": [
    "import pandas as pd\n",
    "import numpy as np\n",
    "from sklearn.model_selection import train_test_split"
   ]
  },
  {
   "cell_type": "code",
   "execution_count": 3,
   "metadata": {},
   "outputs": [],
   "source": [
    "# Import data\n",
    "import zipfile\n",
    "\n",
    "zip_file = zipfile.ZipFile('llm-detect-ai-generated-text.zip')\n",
    "train_data = zip_file.open('train_essays.csv')\n",
    "train_prompts = zip_file.open('train_prompts.csv')\n",
    "# test data is just exmaple data, not the actual test data\n",
    "test_data = zip_file.open('test_essays.csv')\n",
    "sample_sub = zip_file.open('sample_submission.csv')\n",
    "\n",
    "data_train = pd.read_csv(train_data)\n",
    "data_test = pd.read_csv(test_data)\n",
    "train_prompts =  pd.read_csv(train_prompts)\n",
    "sample_sub =  pd.read_csv(sample_sub)"
   ]
  },
  {
   "cell_type": "code",
   "execution_count": 4,
   "metadata": {},
   "outputs": [],
   "source": [
    "# external data\n",
    "daigt_file = zipfile.ZipFile('daigt.zip')\n",
    "argugpt_file = zipfile.ZipFile('argugpt.zip')\n",
    "daigt_data = daigt_file.open('train_drcat_04.csv')\n",
    "argugpt_data = argugpt_file.open('argugpt.csv')\n",
    "daigt_data = pd.read_csv(daigt_data)[['essay_id', 'text', 'label']]\n",
    "# rename columns to match the other data\n",
    "daigt_data.columns = ['id', 'text', 'generated']\n",
    "argugpt_data = pd.read_csv(argugpt_data)[['id', 'text']]\n",
    "argugpt_data.columns = ['id', 'text']\n",
    "# add column 'generated' full of 1 to match the other data\n",
    "argugpt_data['generated'] = 1"
   ]
  },
  {
   "cell_type": "code",
   "execution_count": 5,
   "metadata": {},
   "outputs": [
    {
     "data": {
      "text/html": [
       "<div>\n",
       "<style scoped>\n",
       "    .dataframe tbody tr th:only-of-type {\n",
       "        vertical-align: middle;\n",
       "    }\n",
       "\n",
       "    .dataframe tbody tr th {\n",
       "        vertical-align: top;\n",
       "    }\n",
       "\n",
       "    .dataframe thead th {\n",
       "        text-align: right;\n",
       "    }\n",
       "</style>\n",
       "<table border=\"1\" class=\"dataframe\">\n",
       "  <thead>\n",
       "    <tr style=\"text-align: right;\">\n",
       "      <th></th>\n",
       "      <th>id</th>\n",
       "      <th>text</th>\n",
       "      <th>generated</th>\n",
       "    </tr>\n",
       "  </thead>\n",
       "  <tbody>\n",
       "    <tr>\n",
       "      <th>0</th>\n",
       "      <td>E897534557AF</td>\n",
       "      <td>In recent years, technology has had a profoun...</td>\n",
       "      <td>1</td>\n",
       "    </tr>\n",
       "    <tr>\n",
       "      <th>1</th>\n",
       "      <td>DFBA34FFE11D</td>\n",
       "      <td>Should students participate in an extracurricu...</td>\n",
       "      <td>0</td>\n",
       "    </tr>\n",
       "    <tr>\n",
       "      <th>2</th>\n",
       "      <td>af37ecf5</td>\n",
       "      <td>The electoral college is a symbol of mockery a...</td>\n",
       "      <td>0</td>\n",
       "    </tr>\n",
       "    <tr>\n",
       "      <th>3</th>\n",
       "      <td>5EC2696BAD78</td>\n",
       "      <td>This is why I think the principle should allow...</td>\n",
       "      <td>0</td>\n",
       "    </tr>\n",
       "    <tr>\n",
       "      <th>4</th>\n",
       "      <td>llama_70b_v1843</td>\n",
       "      <td>I strongly believe that meditation and mindful...</td>\n",
       "      <td>1</td>\n",
       "    </tr>\n",
       "  </tbody>\n",
       "</table>\n",
       "</div>"
      ],
      "text/plain": [
       "                id                                               text  \\\n",
       "0     E897534557AF   In recent years, technology has had a profoun...   \n",
       "1     DFBA34FFE11D  Should students participate in an extracurricu...   \n",
       "2         af37ecf5  The electoral college is a symbol of mockery a...   \n",
       "3     5EC2696BAD78  This is why I think the principle should allow...   \n",
       "4  llama_70b_v1843  I strongly believe that meditation and mindful...   \n",
       "\n",
       "   generated  \n",
       "0          1  \n",
       "1          0  \n",
       "2          0  \n",
       "3          0  \n",
       "4          1  "
      ]
     },
     "execution_count": 5,
     "metadata": {},
     "output_type": "execute_result"
    }
   ],
   "source": [
    "daigt_data.head()"
   ]
  },
  {
   "cell_type": "code",
   "execution_count": 6,
   "metadata": {},
   "outputs": [
    {
     "data": {
      "text/html": [
       "<div>\n",
       "<style scoped>\n",
       "    .dataframe tbody tr th:only-of-type {\n",
       "        vertical-align: middle;\n",
       "    }\n",
       "\n",
       "    .dataframe tbody tr th {\n",
       "        vertical-align: top;\n",
       "    }\n",
       "\n",
       "    .dataframe thead th {\n",
       "        text-align: right;\n",
       "    }\n",
       "</style>\n",
       "<table border=\"1\" class=\"dataframe\">\n",
       "  <thead>\n",
       "    <tr style=\"text-align: right;\">\n",
       "      <th></th>\n",
       "      <th>id</th>\n",
       "      <th>text</th>\n",
       "      <th>generated</th>\n",
       "    </tr>\n",
       "  </thead>\n",
       "  <tbody>\n",
       "    <tr>\n",
       "      <th>0</th>\n",
       "      <td>weccl_30</td>\n",
       "      <td>There are many people who think that universit...</td>\n",
       "      <td>1</td>\n",
       "    </tr>\n",
       "    <tr>\n",
       "      <th>1</th>\n",
       "      <td>weccl_51</td>\n",
       "      <td>There are a number of reasons why people might...</td>\n",
       "      <td>1</td>\n",
       "    </tr>\n",
       "    <tr>\n",
       "      <th>2</th>\n",
       "      <td>weccl_48</td>\n",
       "      <td>There are many reasons why university educatio...</td>\n",
       "      <td>1</td>\n",
       "    </tr>\n",
       "    <tr>\n",
       "      <th>3</th>\n",
       "      <td>weccl_50</td>\n",
       "      <td>There are many people who think that universit...</td>\n",
       "      <td>1</td>\n",
       "    </tr>\n",
       "    <tr>\n",
       "      <th>4</th>\n",
       "      <td>weccl_55</td>\n",
       "      <td>There is a general consensus that university e...</td>\n",
       "      <td>1</td>\n",
       "    </tr>\n",
       "  </tbody>\n",
       "</table>\n",
       "</div>"
      ],
      "text/plain": [
       "         id                                               text  generated\n",
       "0  weccl_30  There are many people who think that universit...          1\n",
       "1  weccl_51  There are a number of reasons why people might...          1\n",
       "2  weccl_48  There are many reasons why university educatio...          1\n",
       "3  weccl_50  There are many people who think that universit...          1\n",
       "4  weccl_55  There is a general consensus that university e...          1"
      ]
     },
     "execution_count": 6,
     "metadata": {},
     "output_type": "execute_result"
    }
   ],
   "source": [
    "argugpt_data.head()"
   ]
  },
  {
   "cell_type": "code",
   "execution_count": 7,
   "metadata": {},
   "outputs": [
    {
     "name": "stdout",
     "output_type": "stream",
     "text": [
      "(1378, 4)\n"
     ]
    },
    {
     "data": {
      "text/html": [
       "<div>\n",
       "<style scoped>\n",
       "    .dataframe tbody tr th:only-of-type {\n",
       "        vertical-align: middle;\n",
       "    }\n",
       "\n",
       "    .dataframe tbody tr th {\n",
       "        vertical-align: top;\n",
       "    }\n",
       "\n",
       "    .dataframe thead th {\n",
       "        text-align: right;\n",
       "    }\n",
       "</style>\n",
       "<table border=\"1\" class=\"dataframe\">\n",
       "  <thead>\n",
       "    <tr style=\"text-align: right;\">\n",
       "      <th></th>\n",
       "      <th>id</th>\n",
       "      <th>prompt_id</th>\n",
       "      <th>text</th>\n",
       "      <th>generated</th>\n",
       "    </tr>\n",
       "  </thead>\n",
       "  <tbody>\n",
       "    <tr>\n",
       "      <th>0</th>\n",
       "      <td>0059830c</td>\n",
       "      <td>0</td>\n",
       "      <td>Cars. Cars have been around since they became ...</td>\n",
       "      <td>0</td>\n",
       "    </tr>\n",
       "    <tr>\n",
       "      <th>1</th>\n",
       "      <td>005db917</td>\n",
       "      <td>0</td>\n",
       "      <td>Transportation is a large necessity in most co...</td>\n",
       "      <td>0</td>\n",
       "    </tr>\n",
       "    <tr>\n",
       "      <th>2</th>\n",
       "      <td>008f63e3</td>\n",
       "      <td>0</td>\n",
       "      <td>\"America's love affair with it's vehicles seem...</td>\n",
       "      <td>0</td>\n",
       "    </tr>\n",
       "    <tr>\n",
       "      <th>3</th>\n",
       "      <td>00940276</td>\n",
       "      <td>0</td>\n",
       "      <td>How often do you ride in a car? Do you drive a...</td>\n",
       "      <td>0</td>\n",
       "    </tr>\n",
       "    <tr>\n",
       "      <th>4</th>\n",
       "      <td>00c39458</td>\n",
       "      <td>0</td>\n",
       "      <td>Cars are a wonderful thing. They are perhaps o...</td>\n",
       "      <td>0</td>\n",
       "    </tr>\n",
       "  </tbody>\n",
       "</table>\n",
       "</div>"
      ],
      "text/plain": [
       "         id  prompt_id                                               text  \\\n",
       "0  0059830c          0  Cars. Cars have been around since they became ...   \n",
       "1  005db917          0  Transportation is a large necessity in most co...   \n",
       "2  008f63e3          0  \"America's love affair with it's vehicles seem...   \n",
       "3  00940276          0  How often do you ride in a car? Do you drive a...   \n",
       "4  00c39458          0  Cars are a wonderful thing. They are perhaps o...   \n",
       "\n",
       "   generated  \n",
       "0          0  \n",
       "1          0  \n",
       "2          0  \n",
       "3          0  \n",
       "4          0  "
      ]
     },
     "execution_count": 7,
     "metadata": {},
     "output_type": "execute_result"
    }
   ],
   "source": [
    "print(data_train.shape)\n",
    "data_train.head()"
   ]
  },
  {
   "cell_type": "code",
   "execution_count": 8,
   "metadata": {},
   "outputs": [
    {
     "name": "stdout",
     "output_type": "stream",
     "text": [
      "(49622, 4)\n"
     ]
    },
    {
     "data": {
      "text/html": [
       "<div>\n",
       "<style scoped>\n",
       "    .dataframe tbody tr th:only-of-type {\n",
       "        vertical-align: middle;\n",
       "    }\n",
       "\n",
       "    .dataframe tbody tr th {\n",
       "        vertical-align: top;\n",
       "    }\n",
       "\n",
       "    .dataframe thead th {\n",
       "        text-align: right;\n",
       "    }\n",
       "</style>\n",
       "<table border=\"1\" class=\"dataframe\">\n",
       "  <thead>\n",
       "    <tr style=\"text-align: right;\">\n",
       "      <th></th>\n",
       "      <th>id</th>\n",
       "      <th>prompt_id</th>\n",
       "      <th>text</th>\n",
       "      <th>generated</th>\n",
       "    </tr>\n",
       "  </thead>\n",
       "  <tbody>\n",
       "    <tr>\n",
       "      <th>0</th>\n",
       "      <td>0059830c</td>\n",
       "      <td>0.0</td>\n",
       "      <td>Cars. Cars have been around since they became ...</td>\n",
       "      <td>0</td>\n",
       "    </tr>\n",
       "    <tr>\n",
       "      <th>1</th>\n",
       "      <td>005db917</td>\n",
       "      <td>0.0</td>\n",
       "      <td>Transportation is a large necessity in most co...</td>\n",
       "      <td>0</td>\n",
       "    </tr>\n",
       "    <tr>\n",
       "      <th>2</th>\n",
       "      <td>008f63e3</td>\n",
       "      <td>0.0</td>\n",
       "      <td>\"America's love affair with it's vehicles seem...</td>\n",
       "      <td>0</td>\n",
       "    </tr>\n",
       "    <tr>\n",
       "      <th>3</th>\n",
       "      <td>00940276</td>\n",
       "      <td>0.0</td>\n",
       "      <td>How often do you ride in a car? Do you drive a...</td>\n",
       "      <td>0</td>\n",
       "    </tr>\n",
       "    <tr>\n",
       "      <th>4</th>\n",
       "      <td>00c39458</td>\n",
       "      <td>0.0</td>\n",
       "      <td>Cars are a wonderful thing. They are perhaps o...</td>\n",
       "      <td>0</td>\n",
       "    </tr>\n",
       "  </tbody>\n",
       "</table>\n",
       "</div>"
      ],
      "text/plain": [
       "         id  prompt_id                                               text  \\\n",
       "0  0059830c        0.0  Cars. Cars have been around since they became ...   \n",
       "1  005db917        0.0  Transportation is a large necessity in most co...   \n",
       "2  008f63e3        0.0  \"America's love affair with it's vehicles seem...   \n",
       "3  00940276        0.0  How often do you ride in a car? Do you drive a...   \n",
       "4  00c39458        0.0  Cars are a wonderful thing. They are perhaps o...   \n",
       "\n",
       "   generated  \n",
       "0          0  \n",
       "1          0  \n",
       "2          0  \n",
       "3          0  \n",
       "4          0  "
      ]
     },
     "execution_count": 8,
     "metadata": {},
     "output_type": "execute_result"
    }
   ],
   "source": [
    "# concate all data by matching columns\n",
    "data_train = pd.concat([data_train, daigt_data, argugpt_data], axis=0, ignore_index=True)\n",
    "print(data_train.shape)\n",
    "data_train.head()"
   ]
  },
  {
   "cell_type": "code",
   "execution_count": 9,
   "metadata": {},
   "outputs": [],
   "source": [
    "# drop prompt_id column\n",
    "data_train.drop('prompt_id', axis=1, inplace=True)"
   ]
  },
  {
   "cell_type": "markdown",
   "metadata": {},
   "source": [
    "# EDA"
   ]
  },
  {
   "cell_type": "code",
   "execution_count": 10,
   "metadata": {},
   "outputs": [
    {
     "data": {
      "image/png": "[encoded data removed]",
      "text/plain": [
       "<Figure size 640x480 with 1 Axes>"
      ]
     },
     "metadata": {},
     "output_type": "display_data"
    }
   ],
   "source": [
    "# check and plot the distribution of the prompt_id and generated attributes\n",
    "import matplotlib.pyplot as plt\n",
    "import seaborn as sns\n",
    "sns.countplot(x=\"generated\", data=data_train)\n",
    "plt.show()"
   ]
  },
  {
   "cell_type": "code",
   "execution_count": 11,
   "metadata": {},
   "outputs": [
    {
     "name": "stdout",
     "output_type": "stream",
     "text": [
      "count    49622.000000\n",
      "mean      2202.182862\n",
      "std        999.441348\n",
      "min        239.000000\n",
      "25%       1515.000000\n",
      "50%       2035.000000\n",
      "75%       2631.000000\n",
      "max      18322.000000\n",
      "Name: text, dtype: float64\n"
     ]
    },
    {
     "data": {
      "image/png": "[encoded data removed]",
      "text/plain": [
       "<Figure size 640x480 with 1 Axes>"
      ]
     },
     "metadata": {},
     "output_type": "display_data"
    }
   ],
   "source": [
    "# plot the distribution of the length of the essays in the text attribute\n",
    "data_train['text'].str.len().hist(bins = 100)\n",
    "print(data_train['text'].str.len().describe())\n",
    "plt.show()"
   ]
  },
  {
   "cell_type": "code",
   "execution_count": 12,
   "metadata": {},
   "outputs": [
    {
     "data": {
      "text/plain": [
       "9695.703026327905"
      ]
     },
     "execution_count": 12,
     "metadata": {},
     "output_type": "execute_result"
    }
   ],
   "source": [
    "data_train['text'].str.len().describe().mean()"
   ]
  },
  {
   "cell_type": "code",
   "execution_count": 13,
   "metadata": {},
   "outputs": [
    {
     "name": "stdout",
     "output_type": "stream",
     "text": [
      "(768, 3)\n"
     ]
    }
   ],
   "source": [
    "# count text with len > mean + 3 std deviation\n",
    "mean = data_train['text'].str.len().describe()['mean']\n",
    "std = data_train['text'].str.len().describe()['std']\n",
    "print(data_train[data_train['text'].str.len() > mean + 3*std].shape)"
   ]
  },
  {
   "cell_type": "code",
   "execution_count": 14,
   "metadata": {},
   "outputs": [
    {
     "data": {
      "image/png": "[encoded data removed]",
      "text/plain": [
       "<Figure size 640x480 with 1 Axes>"
      ]
     },
     "metadata": {},
     "output_type": "display_data"
    }
   ],
   "source": [
    "# delete text with len > mean + 3 std deviation\n",
    "data_train = data_train[data_train['text'].str.len() < mean + 3*std]\n",
    "data_train['text'].str.len().hist(bins = 100)\n",
    "plt.show()"
   ]
  },
  {
   "cell_type": "code",
   "execution_count": 16,
   "metadata": {},
   "outputs": [
    {
     "data": {
      "image/png": "[encoded data removed]",
      "text/plain": [
       "<Figure size 640x480 with 1 Axes>"
      ]
     },
     "metadata": {},
     "output_type": "display_data"
    }
   ],
   "source": [
    "# only keep 5000 of each label\n",
    "data_train = data_train.groupby('generated').head(5000)\n",
    "sns.countplot(x=\"generated\", data=data_train)\n",
    "plt.show()\n"
   ]
  },
  {
   "cell_type": "code",
   "execution_count": 18,
   "metadata": {},
   "outputs": [
    {
     "data": {
      "image/png": "[encoded data removed]",
      "text/plain": [
       "<Figure size 640x480 with 1 Axes>"
      ]
     },
     "metadata": {},
     "output_type": "display_data"
    }
   ],
   "source": [
    "data_train['text'].str.len().hist(bins = 100)\n",
    "plt.show()"
   ]
  },
  {
   "cell_type": "code",
   "execution_count": 17,
   "metadata": {},
   "outputs": [
    {
     "name": "stderr",
     "output_type": "stream",
     "text": [
      "[nltk_data] Downloading package words to\n",
      "[nltk_data]     C:\\Users\\33610\\AppData\\Roaming\\nltk_data...\n",
      "[nltk_data]   Package words is already up-to-date!\n",
      "[nltk_data] Downloading package punkt to\n",
      "[nltk_data]     C:\\Users\\33610\\AppData\\Roaming\\nltk_data...\n",
      "[nltk_data]   Package punkt is already up-to-date!\n",
      "[nltk_data] Downloading package stopwords to\n",
      "[nltk_data]     C:\\Users\\33610\\AppData\\Roaming\\nltk_data...\n",
      "[nltk_data]   Package stopwords is already up-to-date!\n"
     ]
    }
   ],
   "source": [
    "import nltk\n",
    "nltk.download('words')\n",
    "nltk.download('punkt')\n",
    "nltk.download('stopwords')\n",
    "from nltk.corpus import words\n",
    "from nltk.corpus import stopwords\n",
    "from nltk.tokenize import word_tokenize\n",
    "# import tokenize words\n",
    "word_list = words.words()"
   ]
  },
  {
   "cell_type": "code",
   "execution_count": 19,
   "metadata": {},
   "outputs": [
    {
     "name": "stderr",
     "output_type": "stream",
     "text": [
      "100%|██████████| 10000/10000 [1:17:44<00:00,  2.14it/s]\n",
      "100%|██████████| 10000/10000 [00:00<00:00, 36109.70it/s]\n",
      "100%|██████████| 10000/10000 [00:00<00:00, 44530.06it/s]\n"
     ]
    }
   ],
   "source": [
    "from tqdm import tqdm\n",
    "\n",
    "def preprocess_text(text_series):\n",
    "    # Convert to lower case\n",
    "    text_series = text_series.str.lower()\n",
    "    # Tokenize the words\n",
    "    text_series = text_series.str.split()\n",
    "    # Only keep words that are in the word_list\n",
    "    text_series = text_series.progress_apply(lambda words: ' '.join(word for word in words if word in word_list))\n",
    "    # Only keep words that are alphanum (not punctuation)\n",
    "    text_series = text_series.str.split().progress_apply(lambda words: ' '.join(word for word in words if word.isalnum()))\n",
    "    # Remove stopwords\n",
    "    stopwords_set = set(stopwords.words('english'))\n",
    "    text_series = text_series.str.split().progress_apply(lambda words: ' '.join(word for word in words if word not in stopwords_set))\n",
    "    return text_series\n",
    "\n",
    "# Apply the function\n",
    "tqdm.pandas()\n",
    "data_train['text'] = preprocess_text(data_train['text'])"
   ]
  },
  {
   "cell_type": "markdown",
   "metadata": {},
   "source": [
    "Additional papers referenced in esssays:\n",
    "- \"Carfree day is spinning into a big hit in Bogota,\" by Andrew Selsky\n",
    "- \"Paris bans driving due to smog\" by Robert Duffer\n",
    "- Bradford Plumer"
   ]
  },
  {
   "cell_type": "code",
   "execution_count": 47,
   "metadata": {},
   "outputs": [
    {
     "data": {
      "text/plain": [
       "0    around since famous henry ford built first maj...\n",
       "1    transportation large necessity transportation ...\n",
       "2    love affair understand easier suggest car usag...\n",
       "3    often ride drive one motor vehicle ever though...\n",
       "4    wonderful perhaps one get us point point exact...\n",
       "Name: text, dtype: object"
      ]
     },
     "execution_count": 47,
     "metadata": {},
     "output_type": "execute_result"
    }
   ],
   "source": [
    "data_train['text'].head()"
   ]
  },
  {
   "cell_type": "code",
   "execution_count": 38,
   "metadata": {},
   "outputs": [],
   "source": [
    "from keras.preprocessing.text import Tokenizer\n",
    "from keras.preprocessing.sequence import pad_sequences\n",
    "\n",
    "# layers size\n",
    "layer_size = 128\n",
    "\n",
    "X = data_train['text'].to_numpy()\n",
    "# Get the target values\n",
    "Y = data_train['generated'].to_numpy()\n",
    "\n",
    "# Split the data into training and testing\n",
    "X_train, X_test, Y_train, Y_test = train_test_split(X,Y, test_size = 0.2, random_state = 42)\n",
    "\n",
    "# # Prepare text for LSTM \n",
    "# tokenizer = Tokenizer(num_words=5000, split=' ')\n",
    "# tokenizer.fit_on_texts(X_train.values)\n",
    "# X_train = tokenizer.texts_to_sequences(X_train.values)\n",
    "# X_train = pad_sequences(X_train, maxlen=layer_size)\n",
    "# X_test = tokenizer.texts_to_sequences(X_test.values)\n",
    "# X_test = pad_sequences(X_test, maxlen=layer_size)\n",
    "\n",
    "# print('before resampling (training sample):')\n",
    "# print(f'shape of data tensor: {X_train.shape}')\n",
    "# print(f'shape of label: {Y_train.shape}')\n",
    "# print('class distribution (train):', Y_train.value_counts())\n",
    "# print('class distribution (test):', Y_test.value_counts())\n",
    "\n",
    "# # # resample training data to oversample humans\n",
    "# sm = SMOTE(random_state=12)\n",
    "# X_train, Y_train = sm.fit_resample(X_train, Y_train)\n",
    "\n",
    "# print('after resampling (training data):')\n",
    "# print(f'shape of data tensor: {X_train.shape}')\n",
    "# print(f'shape of label: {X_train.shape}')\n",
    "# print('class distribution:', Y_train.value_counts())\n",
    "\n",
    "# not a very good idea\n",
    "Y_train = pd.get_dummies(Y_train).values\n",
    "Y_test = pd.get_dummies(Y_test).values"
   ]
  },
  {
   "cell_type": "code",
   "execution_count": 39,
   "metadata": {},
   "outputs": [
    {
     "data": {
      "text/plain": [
       "<tf.Tensor: shape=(1, 50), dtype=float32, numpy=\n",
       "array([[ 5.12287378e-01, -1.12889516e+00,  3.17568362e-01,\n",
       "        -2.92477936e-01, -1.27041721e+00, -1.10778175e-01,\n",
       "        -3.13505054e-01,  5.71780741e-01, -9.37380791e-01,\n",
       "         2.38300443e-01,  3.96323293e-01, -2.30548054e-01,\n",
       "         3.32381308e-01, -4.37096328e-01,  3.03699262e-02,\n",
       "         2.94808447e-02,  2.43208528e-01, -7.95825779e-01,\n",
       "         7.16659009e-01, -1.30693400e+00,  2.51713861e-03,\n",
       "        -1.27348598e-04,  4.87651557e-01, -1.70067981e-01,\n",
       "        -3.67686242e-01,  2.91696519e-01,  2.18778491e-01,\n",
       "        -2.53676157e-03,  6.04423881e-01, -7.83193171e-01,\n",
       "        -1.71234861e-01,  1.05157420e-01,  5.62157929e-01,\n",
       "        -4.81711924e-01, -5.98021150e-01, -1.00311315e+00,\n",
       "        -1.89920247e-01, -3.98384631e-02, -6.19649477e-02,\n",
       "        -3.22284818e-01, -5.54992519e-02, -2.86089815e-02,\n",
       "         6.16812766e-01,  2.13542879e-01,  1.42603680e-01,\n",
       "        -7.73992062e-01, -2.10566014e-01, -3.13815512e-02,\n",
       "         1.22700465e+00, -9.66313630e-02]], dtype=float32)>"
      ]
     },
     "execution_count": 39,
     "metadata": {},
     "output_type": "execute_result"
    }
   ],
   "source": [
    "import tensorflow_hub as hub\n",
    "import tensorflow as tf\n",
    "\n",
    "model = \"https://tfhub.dev/google/nnlm-en-dim50/2\"\n",
    "hub_layer = hub.KerasLayer(model, input_shape=[], dtype=tf.string, trainable=True)\n",
    "hub_layer(X_train[:1])"
   ]
  },
  {
   "cell_type": "code",
   "execution_count": 40,
   "metadata": {},
   "outputs": [],
   "source": [
    "from tensorflow.keras.models import Sequential\n",
    "from tensorflow.keras.layers import Embedding, LSTM, Dense, Dropout, Bidirectional, Reshape\n",
    "\n",
    "# init layer\n",
    "model = Sequential()\n",
    "model.add(hub_layer)\n",
    "model.add(Reshape((1, -1))) # Add this line to reshape the 2D tensor to a 3D tensor\n",
    "model.add(Bidirectional(LSTM(25,return_sequences=True)))\n",
    "model.add(Bidirectional(LSTM(16,return_sequences=False)))\n",
    "model.add(Dropout(0.2))\n",
    "model.add(Dense(32,activation=\"relu\"))\n",
    "model.add(Dense(2, activation='softmax'))\n",
    "\n",
    "# Compile the model\n",
    "model.compile(optimizer='adam', loss='categorical_crossentropy', metrics=['accuracy'])"
   ]
  },
  {
   "cell_type": "code",
   "execution_count": 41,
   "metadata": {},
   "outputs": [
    {
     "name": "stdout",
     "output_type": "stream",
     "text": [
      "(None, 50)\n",
      "(None, 1, 50)\n",
      "(None, 1, 50)\n",
      "(None, 32)\n",
      "(None, 32)\n",
      "(None, 32)\n",
      "(None, 2)\n"
     ]
    }
   ],
   "source": [
    "for layer in model.layers:\n",
    "    print(layer.output_shape)"
   ]
  },
  {
   "cell_type": "code",
   "execution_count": 42,
   "metadata": {},
   "outputs": [
    {
     "name": "stdout",
     "output_type": "stream",
     "text": [
      "Epoch 1/10\n",
      "100/100 [==============================] - 62s 576ms/step - loss: 0.3294 - accuracy: 0.8775 - val_loss: 0.0978 - val_accuracy: 0.9706\n",
      "Epoch 2/10\n",
      "100/100 [==============================] - 58s 581ms/step - loss: 0.0528 - accuracy: 0.9814 - val_loss: 0.0735 - val_accuracy: 0.9800\n",
      "Epoch 3/10\n",
      "100/100 [==============================] - 60s 596ms/step - loss: 0.0211 - accuracy: 0.9937 - val_loss: 0.0798 - val_accuracy: 0.9794\n",
      "Epoch 4/10\n",
      "100/100 [==============================] - 59s 595ms/step - loss: 0.0118 - accuracy: 0.9969 - val_loss: 0.1175 - val_accuracy: 0.9737\n",
      "Epoch 5/10\n",
      "100/100 [==============================] - 64s 637ms/step - loss: 0.0037 - accuracy: 0.9987 - val_loss: 0.1107 - val_accuracy: 0.9769\n",
      "Epoch 6/10\n",
      "100/100 [==============================] - 59s 585ms/step - loss: 0.0014 - accuracy: 0.9995 - val_loss: 0.1222 - val_accuracy: 0.9769\n",
      "Epoch 7/10\n",
      "100/100 [==============================] - 58s 584ms/step - loss: 4.1466e-04 - accuracy: 1.0000 - val_loss: 0.1298 - val_accuracy: 0.9781\n",
      "Epoch 8/10\n",
      "100/100 [==============================] - 58s 584ms/step - loss: 2.1362e-04 - accuracy: 1.0000 - val_loss: 0.1354 - val_accuracy: 0.9787\n",
      "Epoch 9/10\n",
      "100/100 [==============================] - 58s 583ms/step - loss: 1.9252e-04 - accuracy: 1.0000 - val_loss: 0.1399 - val_accuracy: 0.9769\n",
      "Epoch 10/10\n",
      "100/100 [==============================] - 58s 576ms/step - loss: 1.1899e-04 - accuracy: 1.0000 - val_loss: 0.1436 - val_accuracy: 0.9781\n"
     ]
    }
   ],
   "source": [
    "batch_size = 64 \n",
    "epochs = 10\n",
    "history = model.fit(X_train, Y_train, batch_size=batch_size, epochs=epochs, verbose=1, validation_split=0.2)"
   ]
  },
  {
   "cell_type": "code",
   "execution_count": 43,
   "metadata": {},
   "outputs": [
    {
     "data": {
      "image/png": "[encoded data removed]",
      "text/plain": [
       "<Figure size 640x480 with 1 Axes>"
      ]
     },
     "metadata": {},
     "output_type": "display_data"
    },
    {
     "data": {
      "image/png": "[encoded data removed]",
      "text/plain": [
       "<Figure size 640x480 with 1 Axes>"
      ]
     },
     "metadata": {},
     "output_type": "display_data"
    }
   ],
   "source": [
    "import matplotlib.pyplot as plt\n",
    "\n",
    "plt.plot(history.history['accuracy'])\n",
    "plt.plot(history.history['val_accuracy'])\n",
    "plt.title('model accuracy')\n",
    "plt.ylabel('acc')\n",
    "plt.xlabel('epochs')\n",
    "plt.legend(['train', 'validation'], loc='upper left')\n",
    "plt.show()\n",
    "\n",
    "# summarize history for loss\n",
    "plt.plot(history.history['loss'])\n",
    "plt.plot(history.history['val_loss'])\n",
    "plt.title('model loss')\n",
    "plt.ylabel('loss')\n",
    "plt.xlabel('epochs')\n",
    "plt.legend(['train', 'validation'], loc='upper left')\n",
    "plt.show()"
   ]
  },
  {
   "cell_type": "code",
   "execution_count": 50,
   "metadata": {},
   "outputs": [],
   "source": [
    "# predict probabilities for test set\n",
    "yhat_probs = model.predict(X_test, verbose=0)\n",
    "# predict classes for test set\n",
    "yhat_classes = [np.argmax(classes) for classes in yhat_probs]"
   ]
  },
  {
   "cell_type": "code",
   "execution_count": 45,
   "metadata": {},
   "outputs": [
    {
     "name": "stdout",
     "output_type": "stream",
     "text": [
      "Confusion metrics: [[996  20]\n",
      " [ 18 966]]\n",
      "              precision    recall  f1-score   support\n",
      "\n",
      "           0       0.98      0.98      0.98      1016\n",
      "           1       0.98      0.98      0.98       984\n",
      "\n",
      "    accuracy                           0.98      2000\n",
      "   macro avg       0.98      0.98      0.98      2000\n",
      "weighted avg       0.98      0.98      0.98      2000\n",
      "\n"
     ]
    }
   ],
   "source": [
    "from sklearn.metrics import confusion_matrix\n",
    "from sklearn.metrics import classification_report\n",
    "\n",
    "# Check against true class\n",
    "Y_true = [np.argmax(classes) for classes in Y_test]\n",
    "\n",
    "cm = confusion_matrix(yhat_classes, Y_true)\n",
    "cm\n",
    "\n",
    "print(f\"Confusion metrics: {cm}\")\n",
    "print(classification_report(yhat_classes, Y_true))"
   ]
  },
  {
   "cell_type": "code",
   "execution_count": 46,
   "metadata": {},
   "outputs": [
    {
     "name": "stdout",
     "output_type": "stream",
     "text": [
      "Counter({0: 1016, 1: 984})\n",
      "Counter({0: 1014, 1: 986})\n"
     ]
    }
   ],
   "source": [
    "# count values of yhat_classes and Y_true\n",
    "from collections import Counter\n",
    "\n",
    "print(Counter(yhat_classes))\n",
    "print(Counter(Y_true))"
   ]
  },
  {
   "cell_type": "code",
   "execution_count": null,
   "metadata": {},
   "outputs": [],
   "source": [
    "# # Predict test data\n",
    "# test_data = pd.read_csv('Data/test_data.csv')\n",
    "# X_test = test_data['text'].to_numpy()\n",
    "# y_pred = model.predict(X_test, verbose=0)\n",
    "# y_pred = [np.argmax(classes) for classes in y_pred]\n",
    "# y_pred_binary = [1 if e == 8 else 0 for e in y_pred]\n",
    "\n",
    "# # Save the prediction\n",
    "# result = pd.DataFrame(y_pred_binary, columns=['class'])\n",
    "# result['id'] = result.index\n",
    "# result.to_csv(f'Output/{model_name}.csv', columns=['id', 'class'],index=False)"
   ]
  },
  {
   "cell_type": "code",
   "execution_count": null,
   "metadata": {},
   "outputs": [],
   "source": [
    "# # save model\n",
    "# import joblib\n",
    "\n",
    "# output_folder = './Models'\n",
    "# joblib.dump(model, f\"{output_folder}/{model_name}.pkl\")"
   ]
  }
 ],
 "metadata": {
  "kernelspec": {
   "display_name": ".venv",
   "language": "python",
   "name": "python3"
  },
  "language_info": {
   "codemirror_mode": {
    "name": "ipython",
    "version": 3
   },
   "file_extension": ".py",
   "mimetype": "text/x-python",
   "name": "python",
   "nbconvert_exporter": "python",
   "pygments_lexer": "ipython3",
   "version": "3.10.0"
  },
  "orig_nbformat": 4
 },
 "nbformat": 4,
 "nbformat_minor": 2
}
